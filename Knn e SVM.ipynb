{
 "cells": [
  {
   "cell_type": "code",
   "execution_count": 8,
   "id": "2e6f37d2-1440-4b09-961a-f981c6e46bae",
   "metadata": {},
   "outputs": [],
   "source": [
    "import numpy as np\n",
    "import pandas as pd\n",
    "import cv2\n",
    "import matplotlib.pyplot as plt\n",
    "from skimage.feature import local_binary_pattern\n",
    "from skimage.feature import graycomatrix, graycoprops"
   ]
  },
  {
   "cell_type": "code",
   "execution_count": 9,
   "id": "88e2a59d-b89c-4035-be18-eb9f2e276018",
   "metadata": {},
   "outputs": [],
   "source": [
    "def load_label_map(file_path: str):\n",
    "    \"\"\"\n",
    "    Reads a file with labels and creates a dictionary that maps the name of each image file to its matching number.\n",
    "\n",
    "    Args:\n",
    "        file_path (str): The file path to the text\n",
    "                        (ex: 'labels/LABELS_processed.txt).\n",
    "\n",
    "    Returns:\n",
    "        dict: A dictionary where the keys are the filenames (str) and the values are the labels (int)\n",
    "    \"\"\"\n",
    "    labels_maps = {}\n",
    "\n",
    "    try:\n",
    "        with open(file_path, 'r') as f:\n",
    "            for line in f:\n",
    "                clean_line = line.strip()\n",
    "\n",
    "                if clean_line:\n",
    "                    parts = clean_line.split(' ', 1)\n",
    "\n",
    "                    if len(parts) == 2:\n",
    "                        label_str, file_name = parts\n",
    "                        labels_maps[file_name] = int(label_str)\n",
    "\n",
    "    except FileNotFoundError:\n",
    "        print(f\"Error: File '{file_path}' not found\")\n",
    "        return None\n",
    "\n",
    "    return labels_maps"
   ]
  },
  {
   "cell_type": "code",
   "execution_count": 10,
   "id": "5c52f5e5-9ee5-4ffe-8892-1b3d8dd9f113",
   "metadata": {},
   "outputs": [],
   "source": [
    "from typing import Literal\n",
    "\n",
    "def lbp(image: np.ndarray,\n",
    "       P : int = 8,\n",
    "       R : int = 2,\n",
    "       method : Literal['default', 'ror', 'uniform', 'nri_uniform', 'var'] = 'nri_uniform'):\n",
    "    assert isinstance(image, np.ndarray) and len(image.shape) == 2\n",
    "    desc = local_binary_pattern(image, P, R, method=method)\n",
    "\n",
    "    n_bins = P * ( P - 1) + 3\n",
    "    hist, _ = np.histogram(desc, density=True, bins=n_bins, range=(0, n_bins))\n",
    "\n",
    "    return hist\n"
   ]
  },
  {
   "cell_type": "code",
   "execution_count": 15,
   "id": "7c2a3b33-0a85-4823-a221-9fd3238a2576",
   "metadata": {},
   "outputs": [],
   "source": [
    "from typing import List, Union\n",
    "\n",
    "def glcm(image : np.ndarray,\n",
    "        distances : Union[List[int], np.ndarray] = [1,3,5],\n",
    "        angles : Union[List[float], np.ndarray]  = np.deg2rad([0,90,180,270])):\n",
    "    assert isinstance(image, np.ndarray) and len(image.shape) == 2\n",
    "    hists = graycomatrix(image, distances=distances, angles=angles, normed=True, symmetric=True)\n",
    "    prop_names = [\"contrast\", \"dissimilarity\", \"homogeneity\", \"ASM\", \"energy\", \"correlation\"]\n",
    "    props = np.array([graycoprops(hits, prop).flatten() for prop in prop_names]).flatten()\n",
    "\n",
    "    return props\n"
   ]
  },
  {
   "cell_type": "code",
   "execution_count": null,
   "id": "5402bdd4-bae6-45e0-809a-ef103574ed7e",
   "metadata": {},
   "outputs": [],
   "source": []
  }
 ],
 "metadata": {
  "kernelspec": {
   "display_name": "Python 3 (ipykernel)",
   "language": "python",
   "name": "python3"
  },
  "language_info": {
   "codemirror_mode": {
    "name": "ipython",
    "version": 3
   },
   "file_extension": ".py",
   "mimetype": "text/x-python",
   "name": "python",
   "nbconvert_exporter": "python",
   "pygments_lexer": "ipython3",
   "version": "3.9.23"
  }
 },
 "nbformat": 4,
 "nbformat_minor": 5
}
